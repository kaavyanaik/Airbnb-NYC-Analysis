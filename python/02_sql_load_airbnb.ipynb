{
 "cells": [
  {
   "cell_type": "code",
   "execution_count": 1,
   "id": "ec6fd465-1efd-4de5-a0d4-de1e52f8051f",
   "metadata": {},
   "outputs": [
    {
     "name": "stdout",
     "output_type": "stream",
     "text": [
      "Note: you may need to restart the kernel to use updated packages.Requirement already satisfied: pyodbc in d:\\kavya\\lib\\site-packages (5.1.0)\n",
      "\n"
     ]
    }
   ],
   "source": [
    "pip install pyodbc"
   ]
  },
  {
   "cell_type": "code",
   "execution_count": 3,
   "id": "4d61d99d-896d-44c9-a1ce-00c0dd4949ca",
   "metadata": {},
   "outputs": [],
   "source": [
    "import pyodbc\n",
    "\n",
    "conn = pyodbc.connect(\n",
    "    r'DRIVER=ODBC Driver 17 for SQL Server;'\n",
    "    r'SERVER=localhost\\SQLEXPRESS;'\n",
    "    r'DATABASE=master;'\n",
    "    r'Trusted_Connection=yes;',\n",
    "    autocommit=True \n",
    ")\n",
    "\n",
    "cursor = conn.cursor()\n",
    "cursor.execute(\"CREATE DATABASE AirbnbNYC\")\n",
    "conn.close()\n"
   ]
  },
  {
   "cell_type": "code",
   "execution_count": 5,
   "id": "907a0ed8-79bf-4d3a-983d-102bddbec438",
   "metadata": {},
   "outputs": [],
   "source": [
    "import pyodbc\n",
    "\n",
    "# Connect to the new AirbnbNYC database\n",
    "conn = pyodbc.connect(\n",
    "    r'DRIVER=ODBC Driver 17 for SQL Server;'\n",
    "    r'SERVER=localhost\\SQLEXPRESS;'\n",
    "    r'DATABASE=AirbnbNYC;'\n",
    "    r'Trusted_Connection=yes;',\n",
    "    autocommit=True\n",
    ")\n",
    "\n",
    "cursor = conn.cursor()\n"
   ]
  },
  {
   "cell_type": "code",
   "execution_count": 7,
   "id": "d6ec325a-b297-4577-b748-0434343a1f80",
   "metadata": {},
   "outputs": [],
   "source": [
    "#create table\n",
    "\n",
    "create_table_query = \"\"\"\n",
    "CREATE TABLE airbnb_cleaned (\n",
    "    id INT,\n",
    "    name NVARCHAR(MAX),\n",
    "    host_id BIGINT,\n",
    "    neighbourhood_group NVARCHAR(50),\n",
    "    neighbourhood NVARCHAR(100),\n",
    "    latitude FLOAT,\n",
    "    longitude FLOAT,\n",
    "    room_type NVARCHAR(50),\n",
    "    price FLOAT,\n",
    "    minimum_nights INT,\n",
    "    number_of_reviews INT,\n",
    "    reviews_per_month FLOAT,\n",
    "    availability_365 INT\n",
    ");\n",
    "\"\"\"\n",
    "\n",
    "cursor.execute(create_table_query)\n",
    "conn.commit()\n"
   ]
  },
  {
   "cell_type": "code",
   "execution_count": 13,
   "id": "fc6cf230-c864-4f7d-9e65-02b37df1636a",
   "metadata": {},
   "outputs": [],
   "source": [
    "import pandas as pd\n",
    "\n",
    "# Load cleaned data\n",
    "df = pd.read_csv('cleaned_airbnb.csv')\n",
    "\n",
    "columns_for_sql = [\n",
    "    'id', 'name', 'host_id', 'neighbourhood_group', 'neighbourhood',\n",
    "    'latitude', 'longitude', 'room_type', 'price',\n",
    "    'minimum_nights', 'number_of_reviews', 'reviews_per_month', 'availability_365'\n",
    "]\n",
    "df = df[columns_for_sql]\n"
   ]
  },
  {
   "cell_type": "code",
   "execution_count": 17,
   "id": "c2249606-1bdc-4333-bee1-e353677af085",
   "metadata": {},
   "outputs": [
    {
     "name": "stdout",
     "output_type": "stream",
     "text": [
      "Data successfully loaded into SQL Server!\n"
     ]
    }
   ],
   "source": [
    "#Insert data into SQL\n",
    "for index, row in df.iterrows():\n",
    "    cursor.execute(\"\"\"\n",
    "        INSERT INTO airbnb_cleaned (\n",
    "            id, name, host_id, neighbourhood_group, neighbourhood,\n",
    "            latitude, longitude, room_type, price,\n",
    "            minimum_nights, number_of_reviews, reviews_per_month, availability_365\n",
    "        ) VALUES (?, ?, ?, ?, ?, ?, ?, ?, ?, ?, ?, ?, ?)\n",
    "    \"\"\", tuple(row))\n",
    "\n",
    "conn.commit()\n",
    "cursor.close()\n",
    "conn.close()\n",
    "\n",
    "print(\"Data successfully loaded into SQL Server!\")\n"
   ]
  },
  {
   "cell_type": "code",
   "execution_count": null,
   "id": "e552b734-d3cf-47f6-8f36-b6b93eb657d2",
   "metadata": {},
   "outputs": [],
   "source": []
  }
 ],
 "metadata": {
  "kernelspec": {
   "display_name": "Python [conda env:base] *",
   "language": "python",
   "name": "conda-base-py"
  },
  "language_info": {
   "codemirror_mode": {
    "name": "ipython",
    "version": 3
   },
   "file_extension": ".py",
   "mimetype": "text/x-python",
   "name": "python",
   "nbconvert_exporter": "python",
   "pygments_lexer": "ipython3",
   "version": "3.12.7"
  }
 },
 "nbformat": 4,
 "nbformat_minor": 5
}
